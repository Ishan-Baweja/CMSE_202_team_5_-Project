{
 "cells": [
  {
   "cell_type": "markdown",
   "id": "41e81d19",
   "metadata": {},
   "source": [
    "## https://www.kaggle.com/datasets/alexteboul/diabetes-health-indicators-dataset\n",
    "- High Blood Pressure\n",
    "- High Cholesterol\n",
    "- BMI\n",
    "## https://www.kaggle.com/datasets/akshaydattatraykhare/diabetes-dataset\n",
    "- Pregnancies: To express the Number of pregnancies\n",
    "- Glucose: To express the Glucose level in blood\n",
    "- BloodPressure: To express the Blood pressure measurement\n",
    "- SkinThickness: To express the thickness of the skin\n",
    "- Insulin: To express the Insulin level in blood\n",
    "- BMI: To express the Body mass index\n",
    "- DiabetesPedigreeFunction: To express the Diabetes percentage\n",
    "- Age: To express the age\n",
    "- The objective of the dataset is to diagnostically predict whether a patient has diabetes based on certain diagnostic measurements included in the dataset.\n",
    "- National Institute of Diabetes and Digestive and KidneyDiseases\n",
    "## https://archive.ics.uci.edu/ml/datasets/diabetes\n",
    "## https://gis.cdc.gov/grasp/diabetes/diabetesatlas-surveillance.html\n",
    "- Plots diabetes according to different parameters\n",
    "- Gender\n",
    "- Ethnicity\n",
    "- Age\n",
    "- Education\n",
    "## https://www.kaggle.com/datasets/alexteboul/heart-disease-health-indicators-dataset\n",
    "- High Blood Pressure\n",
    "- High Cholesterol\n",
    "- BMI\n",
    "- Heart Disease\n",
    "- Physical Activity\n",
    "- Diabetes\n",
    "- Smoking\n"
   ]
  },
  {
   "cell_type": "code",
   "execution_count": null,
   "id": "9a27fa97",
   "metadata": {},
   "outputs": [],
   "source": []
  }
 ],
 "metadata": {
  "kernelspec": {
   "display_name": "Python 3",
   "language": "python",
   "name": "python3"
  },
  "language_info": {
   "codemirror_mode": {
    "name": "ipython",
    "version": 3
   },
   "file_extension": ".py",
   "mimetype": "text/x-python",
   "name": "python",
   "nbconvert_exporter": "python",
   "pygments_lexer": "ipython3",
   "version": "3.8.8"
  }
 },
 "nbformat": 4,
 "nbformat_minor": 5
}
